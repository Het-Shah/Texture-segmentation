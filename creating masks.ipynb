{
 "cells": [
  {
   "cell_type": "code",
   "execution_count": 28,
   "metadata": {},
   "outputs": [],
   "source": [
    "import argparse\n",
    "import glob\n",
    "import json\n",
    "import os\n",
    "import os.path as osp\n",
    "import sys\n",
    "import cv2\n",
    "import numpy as np\n",
    "import PIL.Image\n",
    "from matplotlib import pyplot as plt\n",
    "import scipy.misc\n",
    "\n",
    "%matplotlib inline"
   ]
  },
  {
   "cell_type": "code",
   "execution_count": 21,
   "metadata": {},
   "outputs": [
    {
     "name": "stdout",
     "output_type": "stream",
     "text": [
      "(238, 221, 3)\n"
     ]
    }
   ],
   "source": [
    "# imgs = []\n",
    "# for img in glob.glob('./masks/*.jpg'):\n",
    "#     name = img.strip('./masks/mask_')\n",
    "#     name = name.rstrip('.jpg')\n",
    "# i = cv2.imread('./masks/mask_1.jpg')\n",
    "# print(i.shape)\n",
    "#     print(int(name))\n",
    "#     imgs.append(int(name))\n",
    "\n",
    "k = cv2.imread('1.jpg')\n",
    "print(k.shape)"
   ]
  },
  {
   "cell_type": "code",
   "execution_count": 19,
   "metadata": {},
   "outputs": [
    {
     "data": {
      "text/plain": [
       "<matplotlib.image.AxesImage at 0x7f7edbb7d898>"
      ]
     },
     "execution_count": 19,
     "metadata": {},
     "output_type": "execute_result"
    },
    {
     "data": {
      "image/png": "[encoded data removed]",
      "text/plain": [
       "<matplotlib.figure.Figure at 0x7f7eddc12e48>"
      ]
     },
     "metadata": {},
     "output_type": "display_data"
    }
   ],
   "source": [
    "img = np.zeros((238,221,3))\n",
    "img = cv2.line(img,(0,0),(511,511),(255,0,0),5)\n",
    "plt.imshow(img)"
   ]
  },
  {
   "cell_type": "code",
   "execution_count": 27,
   "metadata": {},
   "outputs": [
    {
     "name": "stdout",
     "output_type": "stream",
     "text": [
      "1054\n"
     ]
    },
    {
     "name": "stderr",
     "output_type": "stream",
     "text": [
      "/home/het/anaconda3/lib/python3.6/site-packages/ipykernel_launcher.py:9: DeprecationWarning: `imsave` is deprecated!\n",
      "`imsave` is deprecated in SciPy 1.0.0, and will be removed in 1.2.0.\n",
      "Use ``imageio.imwrite`` instead.\n",
      "  if __name__ == '__main__':\n"
     ]
    }
   ],
   "source": [
    "imgs.sort()\n",
    "print(len(imgs))\n",
    "for i in range(2377):\n",
    "    if(i not in imgs):\n",
    "        img = np.zeros((238,221,3))\n",
    "#         img = cv2.line(img,(0,0),(511,511),(0,0,0),5)\n",
    "        name = './masks/mask_' + str(i) + '.jpg'\n",
    "#         img.imwrite(name)\n",
    "        scipy.misc.imsave(name, img)"
   ]
  },
  {
   "cell_type": "code",
   "execution_count": 1,
   "metadata": {
    "collapsed": true
   },
   "outputs": [],
   "source": [
    "import cv2\n",
    "import numpy as np\n",
    "import json\n",
    "import sys\n",
    "from PIL import Image\n",
    "import os\n",
    "import glob\n",
    "from matplotlib import pyplot as plt \n",
    "\n",
    "%matplotlib inline"
   ]
  },
  {
   "cell_type": "code",
   "execution_count": 2,
   "metadata": {},
   "outputs": [
    {
     "data": {
      "text/plain": [
       "<matplotlib.image.AxesImage at 0x259927a2e10>"
      ]
     },
     "execution_count": 2,
     "metadata": {},
     "output_type": "execute_result"
    },
    {
     "data": {
      "image/png": "[encoded data removed]",
      "text/plain": [
       "<matplotlib.figure.Figure at 0x25992684da0>"
      ]
     },
     "metadata": {},
     "output_type": "display_data"
    }
   ],
   "source": [
    "for jsn in glob.glob('*.json'):\n",
    "# jsn = '1529.json'\n",
    "    json_file=open(jsn)\n",
    "    data=json.load(json_file)\n",
    "    newname=\"mask_\"+data[\"imagePath\"]\n",
    "    newimg=np.zeros((data[\"imageHeight\"],data[\"imageWidth\"],3),np.uint8)\n",
    "    for shape in data[\"shapes\"]:\n",
    "        cv2.fillPoly(newimg,[np.array(shape[\"points\"],np.int32)],(255,255,255))\n",
    "    gray_image = cv2.cvtColor(newimg, cv2.COLOR_BGR2GRAY)\n",
    "    result_img=Image.fromarray(gray_image)\n",
    "    plt.imshow(gray_image)\n",
    "    result_img.save(newname)"
   ]
  },
  {
   "cell_type": "code",
   "execution_count": 47,
   "metadata": {},
   "outputs": [
    {
     "data": {
      "text/plain": [
       "<matplotlib.image.AxesImage at 0x2e0e3a04470>"
      ]
     },
     "execution_count": 47,
     "metadata": {},
     "output_type": "execute_result"
    },
    {
     "data": {
      "image/png": "[encoded data removed]",
      "text/plain": [
       "<matplotlib.figure.Figure at 0x2e0e38abdd8>"
      ]
     },
     "metadata": {},
     "output_type": "display_data"
    }
   ],
   "source": [
    "img1 = cv2.imread('1538.jpg')\n",
    "fn = open('1538.json')\n",
    "dat = json.load(fn)\n",
    "newi = np.zeros((data[\"imageHeight\"],data['imageWidth'],3),np.uint8)\n",
    "for shape in dat[\"shapes\"]:\n",
    "    cv2.fillPoly(newi,[np.array(shape[\"points\"],np.int32)],(255,255,255))\n",
    "gray_image = cv2.cvtColor(newi, cv2.COLOR_BGR2GRAY)\n",
    "result_img=Image.fromarray(gray_image)\n",
    "plt.imshow(gray_image)"
   ]
  }
 ],
 "metadata": {
  "kernelspec": {
   "display_name": "Python 3",
   "language": "python",
   "name": "python3"
  },
  "language_info": {
   "codemirror_mode": {
    "name": "ipython",
    "version": 3
   },
   "file_extension": ".py",
   "mimetype": "text/x-python",
   "name": "python",
   "nbconvert_exporter": "python",
   "pygments_lexer": "ipython3",
   "version": "3.6.7"
  }
 },
 "nbformat": 4,
 "nbformat_minor": 2
}
